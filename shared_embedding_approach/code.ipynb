{
 "cells": [
  {
   "cell_type": "code",
   "execution_count": 1,
   "metadata": {},
   "outputs": [
    {
     "name": "stderr",
     "output_type": "stream",
     "text": [
      "2025-09-06 22:24:14.385362: I tensorflow/core/util/port.cc:153] oneDNN custom operations are on. You may see slightly different numerical results due to floating-point round-off errors from different computation orders. To turn them off, set the environment variable `TF_ENABLE_ONEDNN_OPTS=0`.\n",
      "2025-09-06 22:24:15.032581: E external/local_xla/xla/stream_executor/cuda/cuda_fft.cc:467] Unable to register cuFFT factory: Attempting to register factory for plugin cuFFT when one has already been registered\n",
      "WARNING: All log messages before absl::InitializeLog() is called are written to STDERR\n",
      "E0000 00:00:1757172255.354405    5982 cuda_dnn.cc:8579] Unable to register cuDNN factory: Attempting to register factory for plugin cuDNN when one has already been registered\n",
      "E0000 00:00:1757172255.416316    5982 cuda_blas.cc:1407] Unable to register cuBLAS factory: Attempting to register factory for plugin cuBLAS when one has already been registered\n",
      "W0000 00:00:1757172255.829031    5982 computation_placer.cc:177] computation placer already registered. Please check linkage and avoid linking the same target more than once.\n",
      "W0000 00:00:1757172255.829100    5982 computation_placer.cc:177] computation placer already registered. Please check linkage and avoid linking the same target more than once.\n",
      "W0000 00:00:1757172255.829108    5982 computation_placer.cc:177] computation placer already registered. Please check linkage and avoid linking the same target more than once.\n",
      "W0000 00:00:1757172255.829113    5982 computation_placer.cc:177] computation placer already registered. Please check linkage and avoid linking the same target more than once.\n",
      "2025-09-06 22:24:15.844067: I tensorflow/core/platform/cpu_feature_guard.cc:210] This TensorFlow binary is optimized to use available CPU instructions in performance-critical operations.\n",
      "To enable the following instructions: AVX2 AVX_VNNI FMA, in other operations, rebuild TensorFlow with the appropriate compiler flags.\n"
     ]
    }
   ],
   "source": [
    "# clir_pipeline_b.py\n",
    "import pandas as pd\n",
    "from sentence_transformers import SentenceTransformer, util\n",
    "\n",
    "# 1. Load corpus\n",
    "tsv_path = '../fath_muin/cleaned_corpus.tsv'\n",
    "df = pd.read_csv(tsv_path, sep=\"\\t\").dropna(subset=[\"text\"])"
   ]
  },
  {
   "cell_type": "code",
   "execution_count": 2,
   "metadata": {},
   "outputs": [
    {
     "data": {
      "application/vnd.jupyter.widget-view+json": {
       "model_id": "b2a53478c49a4cc39410718cec88cd55",
       "version_major": 2,
       "version_minor": 0
      },
      "text/plain": [
       "Batches:   0%|          | 0/346 [00:00<?, ?it/s]"
      ]
     },
     "metadata": {},
     "output_type": "display_data"
    },
    {
     "name": "stdout",
     "output_type": "stream",
     "text": [
      "\n",
      "=== Top 5 Results (Pipeline B) ===\n",
      "[Score 0.7079] Doc 80: بذلك لاشتمالها علي الصلاه لغه وهي الدعاء ....\n",
      "[Score 0.7000] Doc 1445: وكذا دعاء محض ولو غير ماثور ....\n",
      "[Score 0.6896] Doc 4811: صلاه : فيجب ركعتان بقيام قادر ....\n",
      "[Score 0.6884] Doc 2442: فصل [ في صلاه الجماعه ]...\n",
      "[Score 0.6881] Doc 2451: 650 ] : صلاه الجماعه افضل من صلاه الفذ بسبع وعشرين درجه ....\n"
     ]
    }
   ],
   "source": [
    "\n",
    "# 2. Load multilingual embedding model\n",
    "model = SentenceTransformer(\"sentence-transformers/paraphrase-multilingual-MiniLM-L12-v2\")\n",
    "\n",
    "# 3. Encode Arabic passages\n",
    "doc_embeddings = model.encode(df[\"text\"].tolist(), convert_to_tensor=True, show_progress_bar=True)\n",
    "\n",
    "# 4. Example Indonesian query\n",
    "query_id = \"Apakah shalat itu wajib?\"\n",
    "query_embedding = model.encode(query_id, convert_to_tensor=True)\n",
    "\n",
    "# 5. Compute cosine similarity\n",
    "cos_scores = util.cos_sim(query_embedding, doc_embeddings)[0]\n",
    "\n",
    "# 6. Rank results\n",
    "top_k = 5\n",
    "top_results = cos_scores.topk(top_k)\n",
    "\n",
    "print(\"\\n=== Top 5 Results (Pipeline B) ===\")\n",
    "for score, idx in zip(top_results.values, top_results.indices):\n",
    "    print(f\"[Score {score:.4f}] Doc {idx.item()}: {df.iloc[idx.item()]['text'][:200]}...\")\n"
   ]
  },
  {
   "cell_type": "code",
   "execution_count": 5,
   "metadata": {},
   "outputs": [
    {
     "name": "stdout",
     "output_type": "stream",
     "text": [
      "\n",
      "=== Top 5 Results (Pipeline B) ===\n",
      "[Score 0.7260] Doc 10161: الزكاه ....\n",
      "[Score 0.7236] Doc 6169: رضا مالكه به ....\n",
      "[Score 0.7067] Doc 3028: وستر للعوره ....\n",
      "[Score 0.7006] Doc 2238: وزياد ....\n",
      "[Score 0.6944] Doc 6699: المقر ....\n"
     ]
    }
   ],
   "source": [
    "def query(query_id) :\n",
    "    # 4. Example Indonesian query\n",
    "    query_embedding = model.encode(query_id, convert_to_tensor=True)\n",
    "\n",
    "    # 5. Compute cosine similarity\n",
    "    cos_scores = util.cos_sim(query_embedding, doc_embeddings)[0]\n",
    "\n",
    "    # 6. Rank results\n",
    "    top_k = 5\n",
    "    top_results = cos_scores.topk(top_k)\n",
    "\n",
    "    print(\"\\n=== Top 5 Results (Pipeline B) ===\")\n",
    "    for score, idx in zip(top_results.values, top_results.indices):\n",
    "        print(f\"[Score {score:.4f}] Doc {idx.item()}: {df.iloc[idx.item()]['text'][:400]}...\")\n",
    "\n",
    "query(\"pemilik membagi zakat\")"
   ]
  },
  {
   "cell_type": "code",
   "execution_count": 6,
   "metadata": {},
   "outputs": [
    {
     "data": {
      "text/html": [
       "<div>\n",
       "<style scoped>\n",
       "    .dataframe tbody tr th:only-of-type {\n",
       "        vertical-align: middle;\n",
       "    }\n",
       "\n",
       "    .dataframe tbody tr th {\n",
       "        vertical-align: top;\n",
       "    }\n",
       "\n",
       "    .dataframe thead th {\n",
       "        text-align: right;\n",
       "    }\n",
       "</style>\n",
       "<table border=\"1\" class=\"dataframe\">\n",
       "  <thead>\n",
       "    <tr style=\"text-align: right;\">\n",
       "      <th></th>\n",
       "      <th>line_id</th>\n",
       "      <th>text</th>\n",
       "      <th>tokens_space</th>\n",
       "    </tr>\n",
       "  </thead>\n",
       "  <tbody>\n",
       "    <tr>\n",
       "      <th>0</th>\n",
       "      <td>1</td>\n",
       "      <td>| مقدمه</td>\n",
       "      <td>| مقدمه</td>\n",
       "    </tr>\n",
       "    <tr>\n",
       "      <th>1</th>\n",
       "      <td>2</td>\n",
       "      <td>. . .</td>\n",
       "      <td>. . .</td>\n",
       "    </tr>\n",
       "    <tr>\n",
       "      <th>2</th>\n",
       "      <td>3</td>\n",
       "      <td>بسم الله الرحمن الرحيم</td>\n",
       "      <td>بسم الله الرحمن الرحيم</td>\n",
       "    </tr>\n",
       "    <tr>\n",
       "      <th>3</th>\n",
       "      <td>4</td>\n",
       "      <td>الحمد لله الفتاح الجواد المعين</td>\n",
       "      <td>الحمد لله الفتاح الجواد المعين</td>\n",
       "    </tr>\n",
       "    <tr>\n",
       "      <th>4</th>\n",
       "      <td>5</td>\n",
       "      <td>علي التفقه في الدين من اختاره من العباد واشهد ...</td>\n",
       "      <td>علي التفقه في الدين من اختاره من العباد واشهد ...</td>\n",
       "    </tr>\n",
       "  </tbody>\n",
       "</table>\n",
       "</div>"
      ],
      "text/plain": [
       "   line_id                                               text  \\\n",
       "0        1                                            | مقدمه   \n",
       "1        2                                              . . .   \n",
       "2        3                             بسم الله الرحمن الرحيم   \n",
       "3        4                     الحمد لله الفتاح الجواد المعين   \n",
       "4        5  علي التفقه في الدين من اختاره من العباد واشهد ...   \n",
       "\n",
       "                                        tokens_space  \n",
       "0                                            | مقدمه  \n",
       "1                                              . . .  \n",
       "2                             بسم الله الرحمن الرحيم  \n",
       "3                     الحمد لله الفتاح الجواد المعين  \n",
       "4  علي التفقه في الدين من اختاره من العباد واشهد ...  "
      ]
     },
     "execution_count": 6,
     "metadata": {},
     "output_type": "execute_result"
    }
   ],
   "source": [
    "df.head()"
   ]
  }
 ],
 "metadata": {
  "kernelspec": {
   "display_name": "Python 3",
   "language": "python",
   "name": "python3"
  },
  "language_info": {
   "codemirror_mode": {
    "name": "ipython",
    "version": 3
   },
   "file_extension": ".py",
   "mimetype": "text/x-python",
   "name": "python",
   "nbconvert_exporter": "python",
   "pygments_lexer": "ipython3",
   "version": "3.12.5"
  }
 },
 "nbformat": 4,
 "nbformat_minor": 2
}
