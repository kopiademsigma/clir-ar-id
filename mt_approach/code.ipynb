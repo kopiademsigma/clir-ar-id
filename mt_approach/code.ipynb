{
 "cells": [
  {
   "cell_type": "markdown",
   "metadata": {},
   "source": [
    "# Normalization and Tokenizer"
   ]
  },
  {
   "cell_type": "code",
   "execution_count": null,
   "metadata": {
    "vscode": {
     "languageId": "plaintext"
    }
   },
   "outputs": [],
   "source": [
    "import re\n",
    "from camel_tools.tokenizers.word import simple_word_tokenize  # you already installed camel-tools\n",
    "\n",
    "def normalize_arabic(text):\n",
    "    # remove tashkeel (diacritics), tatweel, normalize alef/ya/taa marbuta, remove non-Arabic extras\n",
    "    text = re.sub(r'[\\u0617-\\u061A\\u064B-\\u0652]', '', text)   # harakat\n",
    "    text = re.sub(r'ـ', '', text)                             # tatweel\n",
    "    text = re.sub(r'[إأآا]', 'ا', text)                        # alifs -> ا\n",
    "    text = re.sub(r'ى', 'ي', text)\n",
    "    text = re.sub(r'ة', 'ه', text)\n",
    "    # keep Arabic letters and spaces; replace other chars with space\n",
    "    text = re.sub(r'[^\\u0600-\\u06FF\\s]', ' ', text)\n",
    "    text = re.sub(r'\\s+', ' ', text).strip()\n",
    "    return text\n",
    "\n",
    "def tokenize_arabic(text):\n",
    "    text = normalize_arabic(str(text))\n",
    "    try:\n",
    "        toks = simple_word_tokenize(text)\n",
    "    except Exception:\n",
    "        toks = text.split()\n",
    "    return toks\n"
   ]
  }
 ],
 "metadata": {
  "language_info": {
   "name": "python"
  }
 },
 "nbformat": 4,
 "nbformat_minor": 2
}
