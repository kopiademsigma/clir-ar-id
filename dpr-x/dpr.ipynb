{
 "cells": [
  {
   "cell_type": "markdown",
   "metadata": {},
   "source": [
    "# Persiapan Data"
   ]
  },
  {
   "cell_type": "code",
   "execution_count": null,
   "metadata": {},
   "outputs": [
    {
     "name": "stdout",
     "output_type": "stream",
     "text": [
      "tevatron path: /home/kopiadem/.conda/envs/clir-env/lib/python3.10/site-packages/tevatron/__init__.py\n",
      "submodules: ['interface', 'reranker', 'retriever', 'tevax', 'utils']\n"
     ]
    },
    {
     "ename": "ModuleNotFoundError",
     "evalue": "No module named 'tevatron.driver'",
     "output_type": "error",
     "traceback": [
      "\u001b[0;31m---------------------------------------------------------------------------\u001b[0m",
      "\u001b[0;31mModuleNotFoundError\u001b[0m                       Traceback (most recent call last)",
      "Cell \u001b[0;32mIn[3], line 6\u001b[0m\n\u001b[1;32m      4\u001b[0m \u001b[38;5;28mprint\u001b[39m(\u001b[38;5;124m\"\u001b[39m\u001b[38;5;124msubmodules:\u001b[39m\u001b[38;5;124m\"\u001b[39m, [m\u001b[38;5;241m.\u001b[39mname \u001b[38;5;28;01mfor\u001b[39;00m m \u001b[38;5;129;01min\u001b[39;00m pkgutil\u001b[38;5;241m.\u001b[39miter_modules(tevatron\u001b[38;5;241m.\u001b[39m__path__)])\n\u001b[1;32m      5\u001b[0m \u001b[38;5;66;03m# coba import driver\u001b[39;00m\n\u001b[0;32m----> 6\u001b[0m \u001b[38;5;28;01mimport\u001b[39;00m\u001b[38;5;250m \u001b[39m\u001b[38;5;21;01mtevatron\u001b[39;00m\u001b[38;5;21;01m.\u001b[39;00m\u001b[38;5;21;01mdriver\u001b[39;00m\n\u001b[1;32m      7\u001b[0m \u001b[38;5;28mprint\u001b[39m(\u001b[38;5;124m\"\u001b[39m\u001b[38;5;124mtevatron.driver OK\u001b[39m\u001b[38;5;124m\"\u001b[39m)\n\u001b[1;32m      8\u001b[0m PY\n",
      "\u001b[0;31mModuleNotFoundError\u001b[0m: No module named 'tevatron.driver'"
     ]
    }
   ],
   "source": [
    "\n",
    "import tevatron\n",
    "import pkgutil\n",
    "print(\"tevatron path:\", tevatron.__file__)\n",
    "print(\"submodules:\", [m.name for m in pkgutil.iter_modules(tevatron.__path__)])\n"
   ]
  },
  {
   "cell_type": "markdown",
   "metadata": {},
   "source": [
    "# Fine-tuning DPR-X "
   ]
  },
  {
   "cell_type": "code",
   "execution_count": 5,
   "metadata": {},
   "outputs": [
    {
     "name": "stdout",
     "output_type": "stream",
     "text": [
      "Traceback (most recent call last):\n",
      "  File \"/home/kopiadem/.conda/envs/clir-env/lib/python3.10/runpy.py\", line 196, in _run_module_as_main\n",
      "    return _run_code(code, main_globals, None,\n",
      "  File \"/home/kopiadem/.conda/envs/clir-env/lib/python3.10/runpy.py\", line 86, in _run_code\n",
      "    exec(code, run_globals)\n",
      "  File \"/home/kopiadem/.conda/envs/clir-env/lib/python3.10/site-packages/tevatron/retriever/driver/train.py\", line 15, in <module>\n",
      "    from tevatron.retriever.collator import TrainCollator\n",
      "  File \"/home/kopiadem/.conda/envs/clir-env/lib/python3.10/site-packages/tevatron/retriever/collator.py\", line 5, in <module>\n",
      "    from qwen_omni_utils import process_mm_info\n",
      "ModuleNotFoundError: No module named 'qwen_omni_utils'\n"
     ]
    }
   ],
   "source": [
    "!python -m tevatron.retriever.driver.train \\\n",
    "  --output_dir ./models/dpr-x \\\n",
    "  --model_name_or_path xlm-roberta-base \\\n",
    "  --do_train \\\n",
    "  --train_dir ./data/train_jsonl \\\n",
    "  --per_device_train_batch_size 8 \\\n",
    "  --learning_rate 3e-5 \\\n",
    "  --num_train_epochs 3 \\\n",
    "  --fp16\n"
   ]
  }
 ],
 "metadata": {
  "kernelspec": {
   "display_name": "clir-env",
   "language": "python",
   "name": "python3"
  },
  "language_info": {
   "codemirror_mode": {
    "name": "ipython",
    "version": 3
   },
   "file_extension": ".py",
   "mimetype": "text/x-python",
   "name": "python",
   "nbconvert_exporter": "python",
   "pygments_lexer": "ipython3",
   "version": "3.10.18"
  }
 },
 "nbformat": 4,
 "nbformat_minor": 2
}
